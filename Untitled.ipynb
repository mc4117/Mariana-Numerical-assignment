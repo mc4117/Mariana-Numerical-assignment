{
 "cells": [
  {
   "cell_type": "code",
   "execution_count": null,
   "metadata": {
    "collapsed": true
   },
   "outputs": [],
   "source": [
    "def plot_solution(nx, number_iterations, initialconditions, numerical_method, xmin = 0, xmax = 1)\n",
    "\n",
    "    plt.rcParams['axes.titlepad'] = 20 \n",
    "    mymap = plt.get_cmap(\"YlOrRd\")\n",
    "    colorrange = mymap(np.r_[np.array([0.3, 0.55, 1]), np.array([0.3, 0.55, 1])])\n",
    "\n",
    "    linestylerange = np.array(['-', '--', '-'])\n",
    "\n",
    "    timerange = np.linspace(0, number_iterations, 4)\n",
    "\n",
    "    initialconditions(nx,number_iterations)\n",
    "\n",
    "    fig1, ax1 = plt.subplots()\n",
    "    fig2, ax2 = plt.subplots()\n",
    "\n",
    "\n",
    "    for i in range(len(timerange[1:])):\n",
    "        u, h, x1 = numerical_method(initialconditions, nx, nt = timerange[1+i])\n",
    "        ax1.plot(x1, u, c = colorrange_u[i], ls = linestylerange[i], label = 'u after ' + str(int(timerange[1+i]*nt)) + ' timesteps')  \n",
    "        ax2.plot(x1, h, c = colorrange_u[i], ls = linestylerange[i], label = 'h after ' + str(int(timerange[1+i]*nt)) + ' timesteps')\n",
    "\n",
    "    ax1.scatter(x1,np.zeros_like(x1), c = 'black', s = 10)\n",
    "    ax2.scatter(x1,np.zeros_like(x1), c = 'black', s = 10)\n",
    "    \n",
    "    ax1.set_xlim([xmin,xmax])\n",
    "    ax1.set_xlabel(\"x\")\n",
    "    ax1.legend(loc = 'best')\n",
    "\n",
    "    ax2.set_xlim([0,1])\n",
    "    ax2.set_xlabel(\"x\")\n",
    "    ax2.legend(loc = 'best') \n",
    "\n",
    "    for item in ([ax1.title, ax1.xaxis.label, ax1.yaxis.label] + [ax2.title, ax2.xaxis.label, ax2.yaxis.label]):\n",
    "        item.set_fontsize(15)\n",
    "        \n",
    "    return ax1, ax2\n",
    "    \n",
    "ax1.set_title(\"Velocity, u, calculated using the staggered implicit scheme\")\n",
    "ax2.set_title(\"Height, h, calculated using the staggered implicit scheme\")\n",
    "\n",
    "fig1.show()\n",
    "fig2.show()"
   ]
  }
 ],
 "metadata": {
  "kernelspec": {
   "display_name": "Python 3",
   "language": "python",
   "name": "python3"
  },
  "language_info": {
   "codemirror_mode": {
    "name": "ipython",
    "version": 3
   },
   "file_extension": ".py",
   "mimetype": "text/x-python",
   "name": "python",
   "nbconvert_exporter": "python",
   "pygments_lexer": "ipython3",
   "version": "3.6.2"
  }
 },
 "nbformat": 4,
 "nbformat_minor": 2
}
