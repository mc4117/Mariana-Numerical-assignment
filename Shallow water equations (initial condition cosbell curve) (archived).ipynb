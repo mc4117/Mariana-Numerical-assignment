{
 "cells": [
  {
   "cell_type": "code",
   "execution_count": 4,
   "metadata": {
    "collapsed": true
   },
   "outputs": [],
   "source": [
    "import numpy as np\n",
    "import matplotlib.pyplot as plt\n",
    "import math"
   ]
  },
  {
   "cell_type": "code",
   "execution_count": 9,
   "metadata": {},
   "outputs": [
    {
     "data": {
      "text/plain": [
       "1.0"
      ]
     },
     "execution_count": 9,
     "metadata": {},
     "output_type": "execute_result"
    }
   ],
   "source": [
    "def h_cosbell(i):\n",
    "    if 0.25 < i < 0.75:\n",
    "        y = math.cos(2*(math.pi)*(i - 0.5))\n",
    "    else:\n",
    "        y = 0\n",
    "    return y\n",
    "\n"
   ]
  },
  {
   "cell_type": "markdown",
   "metadata": {},
   "source": [
    "## Initial conditions"
   ]
  },
  {
   "cell_type": "code",
   "execution_count": 11,
   "metadata": {},
   "outputs": [
    {
     "data": {
      "image/png": "[encoded data removed]",
      "text/plain": [
       "<matplotlib.figure.Figure at 0x105524d30>"
      ]
     },
     "metadata": {},
     "output_type": "display_data"
    },
    {
     "data": {
      "text/plain": [
       "(array([ 0.,  0.,  0.,  0.,  0.,  0.,  0.,  0.,  0.,  0.,  0.,  0.,  0.,\n",
       "         0.,  0.,  0.,  0.,  0.,  0.,  0.,  0.,  0.,  0.,  0.,  0.,  0.,\n",
       "         0.,  0.,  0.,  0.,  0.,  0.,  0.,  0.,  0.,  0.,  0.,  0.,  0.,\n",
       "         0.,  0.,  0.,  0.,  0.,  0.,  0.,  0.,  0.,  0.,  0.,  0.,  0.,\n",
       "         0.,  0.,  0.,  0.,  0.,  0.,  0.,  0.,  0.]),\n",
       " array([ 0.        ,  0.        ,  0.        ,  0.        ,  0.        ,\n",
       "         0.        ,  0.        ,  0.        ,  0.        ,  0.        ,\n",
       "         0.        ,  0.        ,  0.        ,  0.        ,  0.        ,\n",
       "         0.        ,  0.10452846,  0.20791169,  0.30901699,  0.40673664,\n",
       "         0.5       ,  0.58778525,  0.66913061,  0.74314483,  0.80901699,\n",
       "         0.8660254 ,  0.91354546,  0.95105652,  0.9781476 ,  0.9945219 ,\n",
       "         1.        ,  0.9945219 ,  0.9781476 ,  0.95105652,  0.91354546,\n",
       "         0.8660254 ,  0.80901699,  0.74314483,  0.66913061,  0.58778525,\n",
       "         0.5       ,  0.40673664,  0.30901699,  0.20791169,  0.10452846,\n",
       "         0.        ,  0.        ,  0.        ,  0.        ,  0.        ,\n",
       "         0.        ,  0.        ,  0.        ,  0.        ,  0.        ,\n",
       "         0.        ,  0.        ,  0.        ,  0.        ,  0.        ,  0.        ]),\n",
       " 30,\n",
       " array([ 0.        ,  0.01666667,  0.03333333,  0.05      ,  0.06666667,\n",
       "         0.08333333,  0.1       ,  0.11666667,  0.13333333,  0.15      ,\n",
       "         0.16666667,  0.18333333,  0.2       ,  0.21666667,  0.23333333,\n",
       "         0.25      ,  0.26666667,  0.28333333,  0.3       ,  0.31666667,\n",
       "         0.33333333,  0.35      ,  0.36666667,  0.38333333,  0.4       ,\n",
       "         0.41666667,  0.43333333,  0.45      ,  0.46666667,  0.48333333,\n",
       "         0.5       ,  0.51666667,  0.53333333,  0.55      ,  0.56666667,\n",
       "         0.58333333,  0.6       ,  0.61666667,  0.63333333,  0.65      ,\n",
       "         0.66666667,  0.68333333,  0.7       ,  0.71666667,  0.73333333,\n",
       "         0.75      ,  0.76666667,  0.78333333,  0.8       ,  0.81666667,\n",
       "         0.83333333,  0.85      ,  0.86666667,  0.88333333,  0.9       ,\n",
       "         0.91666667,  0.93333333,  0.95      ,  0.96666667,  0.98333333,  1.        ]))"
      ]
     },
     "execution_count": 11,
     "metadata": {},
     "output_type": "execute_result"
    }
   ],
   "source": [
    "nx = 60 # number of points from x = 0 to x = 1\n",
    "nt = 50\n",
    "\n",
    "def initialconditions_cosbell(nx, nt, plot = True):\n",
    "    x = np.linspace(0,1,nx+1) # we want the extra point at the boundary but in reality h[0] and h[nx] are equal\n",
    "    midpoint = math.floor(math.floor(len(x)/2)/2)*2 # in this case it is used for the forcing term\n",
    "    initialu = np.zeros(len(x)).astype(float)\n",
    "    initialh = np.zeros(len(x)).astype(float)\n",
    "    for i in range(len(x)):\n",
    "        initialh[i] = h_cosbell(x[i])\n",
    "    if plot == True:\n",
    "        plt.clf()\n",
    "        plt.ion()\n",
    "        plt.plot(x, initialu, label = 'Initial u conditions')\n",
    "        plt.plot(x, initialh, label = 'Initial h conditions')\n",
    "        plt.legend(loc = 'best')\n",
    "        plt.show()\n",
    "    return initialu, initialh, midpoint, x\n",
    "\n",
    "initialconditions_spike(nx, nt) \n",
    "\n",
    "####### check that when run this in spyder doesn't produce multiple variables"
   ]
  },
  {
   "cell_type": "markdown",
   "metadata": {},
   "source": [
    "## A-grid"
   ]
  },
  {
   "cell_type": "code",
   "execution_count": 13,
   "metadata": {},
   "outputs": [
    {
     "name": "stdout",
     "output_type": "stream",
     "text": [
      "30\n",
      "30\n",
      "30\n",
      "30\n",
      "30\n",
      "30\n",
      "30\n",
      "30\n",
      "30\n",
      "30\n",
      "30\n",
      "30\n",
      "30\n",
      "30\n",
      "30\n",
      "30\n",
      "30\n",
      "30\n",
      "30\n",
      "30\n",
      "30\n",
      "30\n",
      "30\n",
      "30\n",
      "30\n",
      "30\n",
      "30\n",
      "30\n",
      "30\n",
      "30\n",
      "30\n",
      "30\n",
      "30\n",
      "30\n",
      "30\n",
      "30\n",
      "30\n",
      "30\n",
      "30\n",
      "30\n",
      "30\n",
      "30\n",
      "30\n",
      "30\n",
      "30\n",
      "30\n",
      "30\n",
      "30\n",
      "30\n",
      "30\n"
     ]
    },
    {
     "data": {
      "image/png": "[encoded data removed]",
      "text/plain": [
       "<matplotlib.figure.Figure at 0x1056309b0>"
      ]
     },
     "metadata": {},
     "output_type": "display_data"
    },
    {
     "data": {
      "image/png": "[encoded data removed]",
      "text/plain": [
       "<matplotlib.figure.Figure at 0x1059019b0>"
      ]
     },
     "metadata": {},
     "output_type": "display_data"
    }
   ],
   "source": [
    "def A_grid(initialconditions, nx, nt, H = 1, g = 1, w = 8, c = 0.1, Forcing = False):\n",
    "    initialu, initialh, midpoint, x = initialconditions(nx,nt, plot = False)\n",
    "    uOld = initialu.copy()\n",
    "    hOld = initialh.copy()\n",
    "    u = np.zeros_like(uOld)\n",
    "    h = np.zeros_like(hOld)\n",
    "\n",
    "    dx = 1/nx\n",
    "    \n",
    "    dt = (c*dx)/math.sqrt(g*H)\n",
    "\n",
    "    for it in range(int(nt)): \n",
    "        for y in range(1, nx-2):\n",
    "            u[y] = uOld[y] - (c/(2*H))*(hOld[y+1] - hOld[y-1]) # forward in time and centred in space\n",
    "            if Forcing == True:\n",
    "                if y == midpoint:\n",
    "                    print(midpoint)\n",
    "                    h[y] = hOld[y] - (c/(2*g))*(u[y+1] - u[y-1]) + dt*math.sqrt(g*H)*math.sin(w*it*dt)# backward in time and centred in space\n",
    "                else:\n",
    "                    h[y] = hOld[y] - (c/(2*g))*(u[y+1] - u[y-1])\n",
    "\n",
    "            elif Forcing == False:    \n",
    "                h[y] = hOld[y] - (c/(2*g))*(u[y+1] - u[y-1]) # backward in time and centred in space\n",
    "            else:    \n",
    "                print(\"Error: Forcing must be true or false\")\n",
    "        u[0] = uOld[0] - (c/(2*H))*(hOld[1] - hOld[nx-2])\n",
    "        u[nx-1] = uOld[nx-1] - (c/(2*H))*(hOld[0] - hOld[nx - 2])\n",
    "        u[nx] = u[0].copy()\n",
    "        h[0] = hOld[0] - (c/(2*g))*(u[0] - u[nx- 2])\n",
    "        h[nx-1] = hOld[nx-1] - (c/(2*g))*(u[0] - u[nx- 2])\n",
    "        h[nx] = h[0].copy()\n",
    "        hOld = h.copy()\n",
    "        uOld = u.copy()\n",
    "    return u, h, x\n",
    "\n",
    "u, h, x1 = A_grid(initialconditions_spike, nx, nt, H = 1, g = 1, w = 8, Forcing = False)\n",
    "u_forcing, h_forcing, x2 = A_grid(initialconditions_spike, nx, nt, H = 1, g = 1, w = 8, Forcing = True)\n",
    "\n",
    "plt.ion()\n",
    "#plt.plot(x, initialu, 'b--', label = 'Initial u conditions')\n",
    "#plt.plot(x, initialh, 'r--', label = 'Initial h conditions')\n",
    "plt.plot(x1, u, label = 'u without forcing')\n",
    "plt.plot(x2, u_forcing, label = 'u with forcing')\n",
    "plt.legend(loc = 'best')\n",
    "plt.show()\n",
    "\n",
    "#plt.plot(x, initialu, 'b--', label = 'Initial u conditions')\n",
    "#plt.plot(x, initialh, 'r--', label = 'Initial h conditions')\n",
    "plt.plot(x1, h, label = 'h without forcing')\n",
    "plt.plot(x2, h_forcing, label = 'h with forcing')\n",
    "plt.legend(loc = 'best')\n",
    "plt.show()\n",
    "\n"
   ]
  },
  {
   "cell_type": "code",
   "execution_count": 14,
   "metadata": {},
   "outputs": [
    {
     "ename": "NameError",
     "evalue": "name 'initialu' is not defined",
     "output_type": "error",
     "traceback": [
      "\u001b[0;31m---------------------------------------------------------------------------\u001b[0m",
      "\u001b[0;31mNameError\u001b[0m                                 Traceback (most recent call last)",
      "\u001b[0;32m<ipython-input-14-6c4f3564beba>\u001b[0m in \u001b[0;36m<module>\u001b[0;34m()\u001b[0m\n\u001b[0;32m----> 1\u001b[0;31m \u001b[0muOld_forcing\u001b[0m \u001b[0;34m=\u001b[0m \u001b[0minitialu\u001b[0m\u001b[0;34m.\u001b[0m\u001b[0mcopy\u001b[0m\u001b[0;34m(\u001b[0m\u001b[0;34m)\u001b[0m\u001b[0;34m\u001b[0m\u001b[0m\n\u001b[0m\u001b[1;32m      2\u001b[0m \u001b[0mhOld_forcing\u001b[0m \u001b[0;34m=\u001b[0m \u001b[0minitialh\u001b[0m\u001b[0;34m.\u001b[0m\u001b[0mcopy\u001b[0m\u001b[0;34m(\u001b[0m\u001b[0;34m)\u001b[0m\u001b[0;34m\u001b[0m\u001b[0m\n\u001b[1;32m      3\u001b[0m \u001b[0mu_forcing\u001b[0m \u001b[0;34m=\u001b[0m \u001b[0mnp\u001b[0m\u001b[0;34m.\u001b[0m\u001b[0mzeros_like\u001b[0m\u001b[0;34m(\u001b[0m\u001b[0muOld_forcing\u001b[0m\u001b[0;34m)\u001b[0m\u001b[0;34m\u001b[0m\u001b[0m\n\u001b[1;32m      4\u001b[0m \u001b[0mh_forcing\u001b[0m \u001b[0;34m=\u001b[0m \u001b[0mnp\u001b[0m\u001b[0;34m.\u001b[0m\u001b[0mzeros_like\u001b[0m\u001b[0;34m(\u001b[0m\u001b[0mhOld_forcing\u001b[0m\u001b[0;34m)\u001b[0m\u001b[0;34m\u001b[0m\u001b[0m\n\u001b[1;32m      5\u001b[0m \u001b[0;34m\u001b[0m\u001b[0m\n",
      "\u001b[0;31mNameError\u001b[0m: name 'initialu' is not defined"
     ]
    }
   ],
   "source": [
    "uOld_forcing = initialu.copy()\n",
    "hOld_forcing = initialh.copy()\n",
    "u_forcing = np.zeros_like(uOld_forcing)\n",
    "h_forcing = np.zeros_like(hOld_forcing)\n",
    "\n",
    "g = 1 # gravitational acceleration constant\n",
    "H = 1 # height\n",
    "\n",
    "c = 0.1 # courant number root(g*H)(dt/dx)\n",
    "w = 8\n",
    "dt = 1/nt\n",
    "\n",
    "for it in range(int(nt/4)):   # because looking at t = 0.5\n",
    "    for y in range(1, nx-2):\n",
    "        u_forcing[y] = uOld_forcing[y] - (c/(2*H))*(hOld_forcing[y+1] - hOld_forcing[y-1]) # forward in time and centred in space\n",
    "        if y == midpoint:\n",
    "            h_forcing[y] = hOld_forcing[y] - (c/(2*g))*(u_forcing[y+1] - u_forcing[y-1]) + dt*math.sqrt(g*H)*math.sin(w*it/nt)# backward in time and centred in space\n",
    "        else:\n",
    "            h_forcing[y] = float(hOld_forcing[y] - (c/(2*g))*(u_forcing[y+1] - u_forcing[y-1]))\n",
    "\n",
    "    # assuming periodic boundary conditions can define u and h on the boundaries\n",
    "    u_forcing[0] = uOld_forcing[0] - (c/(2*H))*(hOld_forcing[1] - hOld_forcing[nx-2])\n",
    "    u_forcing[nx-1] = uOld_forcing[nx-1] - (c/(2*H))*(hOld_forcing[1] - hOld_forcing[nx - 2])\n",
    "    u_forcing[nx] = u_forcing[0].copy()\n",
    "    h_forcing[0] = hOld_forcing[0] - (c/(2*g))*(u_forcing[1] - u_forcing[nx- 2])\n",
    "    h_forcing[nx-1] = hOld_forcing[nx-1] - (c/(2*g))*(u_forcing[1] - u_forcing[nx- 2])\n",
    "    h_forcing[nx] = h_forcing[0].copy()\n",
    "    hOld_forcing = h_forcing.copy()\n",
    "    uOld_forcing = u_forcing.copy()\n",
    "\n",
    "\n",
    "\n",
    "plt.ion()\n",
    "#plt.plot(x, initialu, 'b--', label = 'Initial u conditions')\n",
    "#plt.plot(x, initialh, 'r--', label = 'Initial h conditions')\n",
    "plt.plot(x, u, label = 'u without forcing')\n",
    "plt.plot(x, u_forcing, label = 'u with forcing')\n",
    "plt.legend(loc = 'best')\n",
    "plt.show()\n",
    "\n",
    "#plt.plot(x, initialu, 'b--', label = 'Initial u conditions')\n",
    "#plt.plot(x, initialh, 'r--', label = 'Initial h conditions')\n",
    "plt.plot(x, h, label = 'h without forcing')\n",
    "plt.plot(x, h_forcing, label = 'h with forcing')\n",
    "plt.legend(loc = 'best')\n",
    "plt.show()\n",
    "\n"
   ]
  },
  {
   "cell_type": "markdown",
   "metadata": {
    "collapsed": true
   },
   "source": [
    "## C-grid"
   ]
  },
  {
   "cell_type": "markdown",
   "metadata": {},
   "source": [
    "### NEED TO DEFINE VARIABLES AT TOP OF ALL FUNCTIONS"
   ]
  },
  {
   "cell_type": "code",
   "execution_count": 15,
   "metadata": {},
   "outputs": [
    {
     "ename": "NameError",
     "evalue": "name 'initialu' is not defined",
     "output_type": "error",
     "traceback": [
      "\u001b[0;31m---------------------------------------------------------------------------\u001b[0m",
      "\u001b[0;31mNameError\u001b[0m                                 Traceback (most recent call last)",
      "\u001b[0;32m<ipython-input-15-f62ef4389580>\u001b[0m in \u001b[0;36m<module>\u001b[0;34m()\u001b[0m\n\u001b[1;32m     46\u001b[0m \u001b[0;34m\u001b[0m\u001b[0m\n\u001b[1;32m     47\u001b[0m \u001b[0;34m\u001b[0m\u001b[0m\n\u001b[0;32m---> 48\u001b[0;31m \u001b[0muhalf\u001b[0m\u001b[0;34m,\u001b[0m \u001b[0mh_cgrid\u001b[0m \u001b[0;34m=\u001b[0m \u001b[0mC_grid\u001b[0m\u001b[0;34m(\u001b[0m\u001b[0minitialu\u001b[0m\u001b[0;34m,\u001b[0m \u001b[0minitialh\u001b[0m\u001b[0;34m,\u001b[0m \u001b[0mnx\u001b[0m\u001b[0;34m,\u001b[0m \u001b[0mnt\u001b[0m\u001b[0;34m,\u001b[0m \u001b[0mH\u001b[0m \u001b[0;34m=\u001b[0m \u001b[0;36m1\u001b[0m\u001b[0;34m,\u001b[0m \u001b[0mg\u001b[0m \u001b[0;34m=\u001b[0m \u001b[0;36m1\u001b[0m\u001b[0;34m,\u001b[0m \u001b[0mw\u001b[0m \u001b[0;34m=\u001b[0m \u001b[0;36m8\u001b[0m\u001b[0;34m,\u001b[0m \u001b[0mForcing\u001b[0m \u001b[0;34m=\u001b[0m \u001b[0;32mFalse\u001b[0m\u001b[0;34m)\u001b[0m\u001b[0;34m\u001b[0m\u001b[0m\n\u001b[0m\u001b[1;32m     49\u001b[0m \u001b[0muhalf_forcing\u001b[0m\u001b[0;34m,\u001b[0m \u001b[0mh_cgrid_forcing\u001b[0m \u001b[0;34m=\u001b[0m \u001b[0mC_grid\u001b[0m\u001b[0;34m(\u001b[0m\u001b[0minitialu\u001b[0m\u001b[0;34m,\u001b[0m \u001b[0minitialh\u001b[0m\u001b[0;34m,\u001b[0m \u001b[0mnx\u001b[0m\u001b[0;34m,\u001b[0m \u001b[0mnt\u001b[0m\u001b[0;34m,\u001b[0m \u001b[0mH\u001b[0m \u001b[0;34m=\u001b[0m \u001b[0;36m1\u001b[0m\u001b[0;34m,\u001b[0m \u001b[0mg\u001b[0m \u001b[0;34m=\u001b[0m \u001b[0;36m1\u001b[0m\u001b[0;34m,\u001b[0m \u001b[0mw\u001b[0m \u001b[0;34m=\u001b[0m \u001b[0;36m8\u001b[0m\u001b[0;34m,\u001b[0m \u001b[0mForcing\u001b[0m \u001b[0;34m=\u001b[0m \u001b[0;32mTrue\u001b[0m\u001b[0;34m)\u001b[0m\u001b[0;34m\u001b[0m\u001b[0m\n\u001b[1;32m     50\u001b[0m \u001b[0;34m\u001b[0m\u001b[0m\n",
      "\u001b[0;31mNameError\u001b[0m: name 'initialu' is not defined"
     ]
    }
   ],
   "source": [
    "def C_grid(initialu, initialh, nx, nt, H = 1, g = 1, w = 8, c = 0.1, Forcing = False):\n",
    "    uhalf = np.zeros(len(initialu)-1)\n",
    "    \n",
    "    # for a c-grid the velocity u is stagerred in the x-direction by half\n",
    "    for i in range(0, len(initialu)-1):\n",
    "        uhalf[i] = (initialu[i] + initialu[i + 1])/2\n",
    "        \n",
    "        # note that uhalf[i] = u_{i + 1/2}\n",
    "        \n",
    "    ####### NEED TO CHANGE THIS TO BE GETTING IT DIRECTLY FROM ANALYTICAL SOLUTION ####\n",
    "    \n",
    "    u_cgrid = np.zeros_like(uhalf)\n",
    "    h_cgrid = np.zeros_like(initialh)\n",
    "    \n",
    "    uOld = uhalf.copy()\n",
    "    hOld = initialh.copy()\n",
    "\n",
    "    dx = 1/nx\n",
    "    \n",
    "    c = 0.1 # courant number root(g*H)(dt/dx)\n",
    "    \n",
    "    dt = (c*dx)/math.sqrt(g*H)\n",
    "    \n",
    "\n",
    "    for it in range(nt): \n",
    "        for y in range(1, nx-2):\n",
    "            uhalf[y] = uOld[y] - (c*math.sqrt(g/H))*(hOld[y + 1] - hOld[y]) # forward in time and centred in space\n",
    "            if Forcing == True:\n",
    "                if y == midpoint:\n",
    "                    h_cgrid[y] = hOld[y] - (c*math.sqrt(H/g))*(uhalf[y + 1] - uhalf[y-1]) + dt*math.sqrt(g*H)*math.sin(w*dt*it)# backward in time and centred in space\n",
    "                else:\n",
    "                    h_cgrid[y] = hOld[y] - (c*math.sqrt(g/H))*(uhalf[y] - uhalf[y-1])\n",
    "            elif Forcing == False:    \n",
    "                h_cgrid[y] = hOld[y] - (c*math.sqrt(g/H))*(uhalf[y] - uhalf[y-1]) \n",
    "            else:\n",
    "                print(\"Error: Forcing must be true or false\")\n",
    "        \n",
    "        uhalf[0] = uOld[0] - (c/(H))*(hOld[1] - hOld[0])\n",
    "        uhalf[nx-1] = uOld[nx-1] - (c/(H))*(hOld[0] - hOld[nx-1])\n",
    "        h_cgrid[0] = hOld[0] - (c/(g))*(uhalf[0] - uhalf[nx-2])\n",
    "        h_cgrid[nx] = h_cgrid[0].copy()\n",
    "        \n",
    "        hOld = h_cgrid.copy()\n",
    "        uOld = uhalf.copy()\n",
    "    return uhalf, h_cgrid\n",
    "\n",
    "\n",
    "uhalf, h_cgrid = C_grid(initialu, initialh, nx, nt, H = 1, g = 1, w = 8, Forcing = False)\n",
    "uhalf_forcing, h_cgrid_forcing = C_grid(initialu, initialh, nx, nt, H = 1, g = 1, w = 8, Forcing = True)\n",
    "\n",
    "plt.ion()\n",
    "#plt.plot(x, initialu, 'b--', label = 'Initial u conditions')\n",
    "#plt.plot(x, initialh, 'r--', label = 'Initial h conditions')\n",
    "plt.plot(x[0:(len(x) -1)], uhalf, label = 'u with C-grid and no forcing')\n",
    "plt.plot(x[0:(len(x) -1)], uhalf_forcing, label = 'u with C-grid and forcing')\n",
    "plt.legend(loc = 'best')\n",
    "plt.show()\n",
    "\n",
    "#plt.plot(x, initialu, 'b--', label = 'Initial u conditions')\n",
    "#plt.plot(x, initialh, 'r--', label = 'Initial h conditions')\n",
    "plt.plot(x, h_cgrid, label = 'h with C-grid and no forcing')\n",
    "plt.plot(x, h_cgrid_forcing, label = 'h with C-grid and forcing')\n",
    "plt.legend(loc = 'best')\n",
    "plt.show()"
   ]
  },
  {
   "cell_type": "code",
   "execution_count": null,
   "metadata": {
    "collapsed": true
   },
   "outputs": [],
   "source": []
  }
 ],
 "metadata": {
  "kernelspec": {
   "display_name": "Python 3",
   "language": "python",
   "name": "python3"
  },
  "language_info": {
   "codemirror_mode": {
    "name": "ipython",
    "version": 3
   },
   "file_extension": ".py",
   "mimetype": "text/x-python",
   "name": "python",
   "nbconvert_exporter": "python",
   "pygments_lexer": "ipython3",
   "version": "3.6.2"
  }
 },
 "nbformat": 4,
 "nbformat_minor": 2
}
