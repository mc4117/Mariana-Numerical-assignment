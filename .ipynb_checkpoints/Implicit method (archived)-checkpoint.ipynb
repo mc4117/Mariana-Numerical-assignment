{
 "cells": [
  {
   "cell_type": "code",
   "execution_count": 1,
   "metadata": {
    "collapsed": true
   },
   "outputs": [],
   "source": [
    "import numpy as np\n",
    "import matplotlib.pyplot as plt\n",
    "import math"
   ]
  },
  {
   "cell_type": "code",
   "execution_count": 2,
   "metadata": {
    "collapsed": true
   },
   "outputs": [],
   "source": [
    "def flat_u(j):\n",
    "    \"\"\"produces a flat line at zero\"\"\"\n",
    "    y = 0\n",
    "    return y\n",
    "\n",
    "def h_spike(j, midpoint):\n",
    "    \"\"\"produces a curve which is zero everywhere but h = 1 at one point in the cente\"\"\"\n",
    "    if j == midpoint:\n",
    "        y = 1\n",
    "    else:\n",
    "        y = 0\n",
    "    return y\n",
    "\n",
    "def h_cosbell(j):\n",
    "    \"\"\"produces a curve which has a bump in the centre and is surrounded by zero either side\"\"\"\n",
    "    if 0.25 <= j <= 0.75:\n",
    "        y = math.cos(2*(math.pi)*(j - 0.5))\n",
    "    else:\n",
    "        y = 0\n",
    "    return y"
   ]
  },
  {
   "cell_type": "code",
   "execution_count": 19,
   "metadata": {
    "collapsed": true
   },
   "outputs": [],
   "source": [
    "def initialconditions_spike(nx, nt, plot = True):\n",
    "    \"\"\"\n",
    "    nx: number of space steps\n",
    "    nt: number of time steps\n",
    "    plot: if this variable is True then the initial conditions will be plotted, but it False then no plot will be produced\n",
    "    \"\"\"\n",
    "    x = np.linspace(0,1,nx+1) # want the extra point at the boundary for plot but in reality h[0] and h[nx] are equal\n",
    "    midpoint = math.floor(math.floor(len(x)/2)/2)*2 \n",
    "    \n",
    "    # initialize initial u and initial h\n",
    "    initialu = np.zeros(len(x)).astype(float)\n",
    "    initialh = np.zeros(len(x)).astype(float)\n",
    "    \n",
    "    # set the initial conditions such that u is zero everywhere and h is zero everywhere apart from one point at the centre where it is one\n",
    "    for i in range(len(x)):\n",
    "        initialu[i] = flat_u(i)\n",
    "        initialh[i] = h_spike(i, midpoint)\n",
    "    \n",
    "    # plot these initial conditions\n",
    "    if plot == True:\n",
    "        plt.clf()\n",
    "        plt.ion()\n",
    "        plt.plot(x, initialu, label = 'Initial u conditions')\n",
    "        plt.plot(x, initialh, label = 'Initial h conditions')\n",
    "        plt.legend(loc = 'best')\n",
    "        plt.show()\n",
    "        \n",
    "    return initialu, initialh, midpoint, x\n",
    "\n",
    "def initialconditions_cosbell(nx, nt, plot = True):\n",
    "    \"\"\"\n",
    "    nx: number of space steps\n",
    "    nt: number of time steps\n",
    "    plot: if this variable is True then the initial conditions will be plotted, but it False then no plot will be produced\n",
    "    \"\"\"\n",
    "    x = np.linspace(0,1,nx+1) # want the extra point at the boundary but in reality h[0] and h[nx] are equal\n",
    "    \n",
    "    midpoint = math.floor(math.floor(len(x)/2)/2)*2 # calculate midpoint to be used for the forcing term\n",
    "    \n",
    "    # initialize initial u and initial h\n",
    "    initialu = np.zeros(len(x)).astype(float)\n",
    "    initialh = np.zeros(len(x)).astype(float)\n",
    "    \n",
    "    # set the initial conditions such that u is zero everywhere and h has a bump in the centre and is surrounded by zero either side\n",
    "    for i in range(len(x)):\n",
    "        initialu[i] = flat_u(i)\n",
    "        initialh[i] = h_cosbell(x[i])\n",
    "        \n",
    "    # plot these initial conditions\n",
    "    if plot == True:\n",
    "        plt.clf()\n",
    "        plt.ion()\n",
    "        plt.plot(x, initialu, label = 'Initial u conditions')\n",
    "        plt.plot(x, initialh, label = 'Initial h conditions')\n",
    "        plt.legend(loc = 'best')\n",
    "        plt.show()\n",
    "    return initialu, initialh, midpoint, x"
   ]
  },
  {
   "cell_type": "code",
   "execution_count": 20,
   "metadata": {},
   "outputs": [
    {
     "data": {
      "image/png": "[encoded data removed]",
      "text/plain": [
       "<matplotlib.figure.Figure at 0x110d969e8>"
      ]
     },
     "metadata": {},
     "output_type": "display_data"
    }
   ],
   "source": [
    "nx = 20\n",
    "nt = 50\n",
    "\n",
    "#initialu, initialh, midpoint, x = initialconditions_cosbell(nx, nt)\n",
    "initialu, initialh, midpoint, x = initialconditions_spike(nx, nt)"
   ]
  },
  {
   "cell_type": "code",
   "execution_count": 21,
   "metadata": {
    "collapsed": true
   },
   "outputs": [],
   "source": [
    "uOld = initialu.copy()\n",
    "hOld = initialh.copy()"
   ]
  },
  {
   "cell_type": "code",
   "execution_count": 22,
   "metadata": {},
   "outputs": [],
   "source": [
    "c = 0.1\n",
    "g = 1\n",
    "H = 1\n",
    "\n",
    "uvector = np.zeros_like(uOld)\n",
    "\n",
    "matrix = np.zeros((nx+1,nx+1))\n",
    "    \n",
    "for i in range(nx+1):    \n",
    "    matrix[i,i] = 1 + c**2/2\n",
    "    matrix[i, (i-2)%nx] = -(c**2)/4\n",
    "    matrix[i, (i+2)%nx] = -(c**2)/4\n",
    "    \n",
    "for it in range(nt):    \n",
    "    for i in range(nx+1):\n",
    "        uvector[i] = math.sqrt(H/g)*(c/2)*(uOld[(i+1)%nx] - uOld[(i-1)%nx])\n",
    "    h = np.linalg.solve(matrix, hOld - uvector)\n",
    "    hOld = h.copy()\n",
    "    \n",
    "    hvector = np.zeros_like(hOld)\n",
    "    for i in range(nx+1):\n",
    "        hvector[i] = math.sqrt(g/H)*(c/2)*(hOld[(i+1)%nx] - hOld[(i-1)%nx])\n",
    "\n",
    "    u = np.linalg.solve(matrix, uOld - hvector)\n",
    "    uOld = u.copy()\n",
    "    \n",
    "#uvector[0] = math.sqrt(H/g)*(c/2)*(uOld[1]-uOld[nx-1])\n",
    "#uvector[1] = math.sqrt(H/g)*(c/2)*(uOld[2]-uOld[0])\n",
    "#uvector[nx-1] = math.sqrt(H/g)*(c/2)*(uOld[nx]-uOld[nx-2])\n",
    "#uvector[nx] = math.sqrt(H/g)*(c/2)*(uOld[1] - uOld[nx - 1])\n",
    "    \n",
    "#matrix[0,0] = 1 + (c**2)/2\n",
    "#matrix[0,2] = -(c**2)/4\n",
    "#matrix[0, nx -2] = -(c**2)/4\n",
    "#matrix[1,1] = 1 + (c**2)/2\n",
    "#matrix[1,3] = -(c**2)/4\n",
    "#matrix[1,nx-1] = -(c**2)/4\n",
    "#matrix[nx-1, nx-1] = 1 + (c**2)/2\n",
    "#matrix[nx-1, 1] = -(c**2)/4\n",
    "#matrix[nx-1, nx-3] = 1 + (c**2)/2\n",
    "#matrix[nx, nx] = 1 + (c**2)/2\n",
    "#matrix[nx, nx - 2] = -(c**2)/4\n",
    "#matrix[nx, 2] = -(c**2)/4\n"
   ]
  },
  {
   "cell_type": "code",
   "execution_count": 23,
   "metadata": {},
   "outputs": [
    {
     "data": {
      "image/png": "[encoded data removed]",
      "text/plain": [
       "<matplotlib.figure.Figure at 0x110e42e80>"
      ]
     },
     "metadata": {},
     "output_type": "display_data"
    }
   ],
   "source": [
    "plt.clf()\n",
    "plt.ion()\n",
    "plt.plot(x, u, label = 'u')\n",
    "plt.plot(x, h, label = 'h')\n",
    "plt.legend(loc = 'best')\n",
    "plt.show()"
   ]
  },
  {
   "cell_type": "code",
   "execution_count": null,
   "metadata": {
    "collapsed": true
   },
   "outputs": [],
   "source": []
  }
 ],
 "metadata": {
  "kernelspec": {
   "display_name": "Python 3",
   "language": "python",
   "name": "python3"
  },
  "language_info": {
   "codemirror_mode": {
    "name": "ipython",
    "version": 3
   },
   "file_extension": ".py",
   "mimetype": "text/x-python",
   "name": "python",
   "nbconvert_exporter": "python",
   "pygments_lexer": "ipython3",
   "version": "3.6.2"
  }
 },
 "nbformat": 4,
 "nbformat_minor": 2
}
