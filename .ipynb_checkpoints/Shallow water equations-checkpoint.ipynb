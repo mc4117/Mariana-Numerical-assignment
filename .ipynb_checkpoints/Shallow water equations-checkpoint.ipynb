{
 "cells": [
  {
   "cell_type": "code",
   "execution_count": 1,
   "metadata": {
    "collapsed": true
   },
   "outputs": [],
   "source": [
    "import numpy as np\n",
    "import matplotlib.pyplot as plt"
   ]
  },
  {
   "cell_type": "code",
   "execution_count": 2,
   "metadata": {},
   "outputs": [],
   "source": [
    "nx = 61 # number of points from x = 0 to x = 1\n",
    "dx = 1/nx\n",
    "\n",
    "nt = 50\n",
    "dt = 1/nt\n",
    "\n",
    "x = np.linspace(0,1,nx)\n",
    "\n",
    "initialu = np.where(x <0, 0,0)\n",
    "initialh = np.where(x==0.5, 1, 0)"
   ]
  },
  {
   "cell_type": "code",
   "execution_count": 3,
   "metadata": {},
   "outputs": [
    {
     "data": {
      "image/png": "[encoded data removed]",
      "text/plain": [
       "<matplotlib.figure.Figure at 0x10ae70908>"
      ]
     },
     "metadata": {},
     "output_type": "display_data"
    }
   ],
   "source": [
    "plt.clf()\n",
    "plt.ion()\n",
    "plt.plot(x, initialu, label = 'Initial u conditions')\n",
    "plt.plot(x, initialh, label = 'Initial h conditions')\n",
    "plt.legend(loc = 'best')\n",
    "plt.show()"
   ]
  },
  {
   "cell_type": "code",
   "execution_count": 9,
   "metadata": {},
   "outputs": [
    {
     "data": {
      "image/png": "[encoded data removed]",
      "text/plain": [
       "<matplotlib.figure.Figure at 0x10b2b2a20>"
      ]
     },
     "metadata": {},
     "output_type": "display_data"
    }
   ],
   "source": [
    "u = initialu.copy()\n",
    "h = initialh.copy()\n",
    "uOld = initialu.copy()\n",
    "hOld = initialh.copy()\n",
    "\n",
    "g = 9.81 # gravitational acceleration constant\n",
    "H = 2 # height\n",
    "\n",
    "gmesh = g*(dt)/(2*dx)\n",
    "Hmesh = H*(dt)/(2*dx)\n",
    "\n",
    "\n",
    "for it in range(nt): \n",
    "    for y in range(1, nx-1):\n",
    "        u[y] = uOld[y] - gmesh*(hOld[y+1] - hOld[y-1]) # forward in time and centred in space\n",
    "        h[y] = hOld[y] - Hmesh*(uOld[y] - uOld[y-1])   # backward in time and centred in space\n",
    "\n",
    "\n",
    "plt.ion()\n",
    "plt.plot(x, initialu, 'b--', label = 'Initial u conditions')\n",
    "plt.plot(x, initialh, 'r--', label = 'Initial h conditions')\n",
    "plt.plot(x, u, label = 'u')\n",
    "plt.plot(x, h, label = 'h')\n",
    "plt.legend(loc = 'best')\n",
    "plt.show()\n",
    "\n",
    "# therefore see that on this meshgrid u changes but the height of the fluid and where it is centred stays the same"
   ]
  },
  {
   "cell_type": "code",
   "execution_count": null,
   "metadata": {
    "collapsed": true
   },
   "outputs": [],
   "source": []
  }
 ],
 "metadata": {
  "kernelspec": {
   "display_name": "Python 3",
   "language": "python",
   "name": "python3"
  },
  "language_info": {
   "codemirror_mode": {
    "name": "ipython",
    "version": 3
   },
   "file_extension": ".py",
   "mimetype": "text/x-python",
   "name": "python",
   "nbconvert_exporter": "python",
   "pygments_lexer": "ipython3",
   "version": "3.6.2"
  }
 },
 "nbformat": 4,
 "nbformat_minor": 2
}
