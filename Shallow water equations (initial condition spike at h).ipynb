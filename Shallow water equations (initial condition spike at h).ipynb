{
 "cells": [
  {
   "cell_type": "code",
   "execution_count": 27,
   "metadata": {
    "collapsed": true
   },
   "outputs": [],
   "source": [
    "import numpy as np\n",
    "import matplotlib.pyplot as plt\n",
    "import math"
   ]
  },
  {
   "cell_type": "markdown",
   "metadata": {},
   "source": [
    "## Initial conditions"
   ]
  },
  {
   "cell_type": "code",
   "execution_count": 26,
   "metadata": {},
   "outputs": [
    {
     "data": {
      "image/png": "[encoded data removed]",
      "text/plain": [
       "<matplotlib.figure.Figure at 0x10af056d8>"
      ]
     },
     "metadata": {},
     "output_type": "display_data"
    }
   ],
   "source": [
    "nx = 60 # number of points from x = 0 to x = 1\n",
    "nt = 50\n",
    "\n",
    "def initialconditions_spike(nx, nt, plot = True):\n",
    "    x = np.linspace(0,1,nx+1) # we want the extra point at the boundary but in reality h[0] and h[nx] are equal\n",
    "    midpoint = math.floor(math.floor(len(x)/2)/2)*2\n",
    "    initialu = np.zeros(len(x)).astype(float)\n",
    "    initialh = np.where(x == x[midpoint], 1, 0).astype(float)\n",
    "    if plot == True:\n",
    "        plt.clf()\n",
    "        plt.ion()\n",
    "        plt.plot(x, initialu, label = 'Initial u conditions')\n",
    "        plt.plot(x, initialh, label = 'Initial h conditions')\n",
    "        plt.legend(loc = 'best')\n",
    "        plt.show()\n",
    "    return initialu, initialh\n",
    "\n",
    "initialu, initialh = initialconditions_spike(nx,nt)"
   ]
  },
  {
   "cell_type": "markdown",
   "metadata": {},
   "source": [
    "## A-grid"
   ]
  },
  {
   "cell_type": "code",
   "execution_count": 30,
   "metadata": {},
   "outputs": [
    {
     "ename": "NameError",
     "evalue": "name 'u' is not defined",
     "output_type": "error",
     "traceback": [
      "\u001b[0;31m---------------------------------------------------------------------------\u001b[0m",
      "\u001b[0;31mNameError\u001b[0m                                 Traceback (most recent call last)",
      "\u001b[0;32m<ipython-input-30-7b829638b192>\u001b[0m in \u001b[0;36m<module>\u001b[0;34m()\u001b[0m\n\u001b[1;32m     33\u001b[0m \u001b[0;31m#plt.plot(x, initialu, 'b--', label = 'Initial u conditions')\u001b[0m\u001b[0;34m\u001b[0m\u001b[0;34m\u001b[0m\u001b[0m\n\u001b[1;32m     34\u001b[0m \u001b[0;31m#plt.plot(x, initialh, 'r--', label = 'Initial h conditions')\u001b[0m\u001b[0;34m\u001b[0m\u001b[0;34m\u001b[0m\u001b[0m\n\u001b[0;32m---> 35\u001b[0;31m \u001b[0mplt\u001b[0m\u001b[0;34m.\u001b[0m\u001b[0mplot\u001b[0m\u001b[0;34m(\u001b[0m\u001b[0mx\u001b[0m\u001b[0;34m,\u001b[0m \u001b[0mu\u001b[0m\u001b[0;34m,\u001b[0m \u001b[0mlabel\u001b[0m \u001b[0;34m=\u001b[0m \u001b[0;34m'u without forcing'\u001b[0m\u001b[0;34m)\u001b[0m\u001b[0;34m\u001b[0m\u001b[0m\n\u001b[0m\u001b[1;32m     36\u001b[0m \u001b[0mplt\u001b[0m\u001b[0;34m.\u001b[0m\u001b[0mplot\u001b[0m\u001b[0;34m(\u001b[0m\u001b[0mx\u001b[0m\u001b[0;34m,\u001b[0m \u001b[0mu_forcing\u001b[0m\u001b[0;34m,\u001b[0m \u001b[0mlabel\u001b[0m \u001b[0;34m=\u001b[0m \u001b[0;34m'u with forcing'\u001b[0m\u001b[0;34m)\u001b[0m\u001b[0;34m\u001b[0m\u001b[0m\n\u001b[1;32m     37\u001b[0m \u001b[0mplt\u001b[0m\u001b[0;34m.\u001b[0m\u001b[0mlegend\u001b[0m\u001b[0;34m(\u001b[0m\u001b[0mloc\u001b[0m \u001b[0;34m=\u001b[0m \u001b[0;34m'best'\u001b[0m\u001b[0;34m)\u001b[0m\u001b[0;34m\u001b[0m\u001b[0m\n",
      "\u001b[0;31mNameError\u001b[0m: name 'u' is not defined"
     ]
    }
   ],
   "source": [
    "def A_grid(initialu, initialh, nx, nt, H = 1, g = 1, w = 8, c = 0.1, Forcing = False):\n",
    "    uOld = initialu.copy()\n",
    "    hOld = initialh.copy()\n",
    "    u = np.zeros_like(uOld)\n",
    "    h = np.zeros_like(hOld)\n",
    "\n",
    "    dt = (c*dx)/math.sqrt(g*H)\n",
    "\n",
    "    for it in range(nt): \n",
    "        for y in range(1, nx-2):\n",
    "            u[y] = uOld[y] - (c/(2*H))*(hOld[y+1] - hOld[y-1]) # forward in time and centred in space\n",
    "            if Forcing == True:\n",
    "                if y == midpoint:\n",
    "                    h[y] = hOld[y] - (c/(2*g))*(u[y+1] - u[y-1]) + dt*math.sqrt(g*H)*math.sin(w*it/nt)# backward in time and centred in space\n",
    "                else:\n",
    "                    h[y] = hOld[y] - (c/(2*g))*(u[y+1] - u[y-1])\n",
    "\n",
    "            elif Forcing == False:    \n",
    "                h[y] = hOld[y] - (c/(2*g))*(u[y+1] - u[y-1]) # backward in time and centred in space\n",
    "            else:    \n",
    "                print(\"Error: Forcing must be true or false\")\n",
    "        u[0] = uOld[0] - (c/(2*H))*(hOld[1] - hOld[nx-2])\n",
    "        u[nx-1] = uOld[nx-1] - (c/(2*H))*(hOld[0] - hOld[nx - 2])\n",
    "        u[nx] = u[0].copy()\n",
    "        h[0] = hOld[0] - (c/(2*g))*(u[0] - u[nx- 2])\n",
    "        h[nx-1] = hOld[nx-1] - (c/(2*g))*(u[0] - u[nx- 2])\n",
    "        h[nx] = h[0].copy()\n",
    "        hOld = h.copy()\n",
    "        uOld = u.copy()\n",
    "    return u, h\n",
    "\n",
    "plt.ion()\n",
    "#plt.plot(x, initialu, 'b--', label = 'Initial u conditions')\n",
    "#plt.plot(x, initialh, 'r--', label = 'Initial h conditions')\n",
    "plt.plot(x, u, label = 'u without forcing')\n",
    "plt.plot(x, u_forcing, label = 'u with forcing')\n",
    "plt.legend(loc = 'best')\n",
    "plt.show()\n",
    "\n",
    "#plt.plot(x, initialu, 'b--', label = 'Initial u conditions')\n",
    "#plt.plot(x, initialh, 'r--', label = 'Initial h conditions')\n",
    "plt.plot(x, h, label = 'h without forcing')\n",
    "plt.plot(x, h_forcing, label = 'h with forcing')\n",
    "plt.legend(loc = 'best')\n",
    "plt.show()\n",
    "\n"
   ]
  },
  {
   "cell_type": "code",
   "execution_count": null,
   "metadata": {},
   "outputs": [],
   "source": [
    "uOld_forcing = initialu.copy()\n",
    "hOld_forcing = initialh.copy()\n",
    "u_forcing = np.zeros_like(uOld_forcing)\n",
    "h_forcing = np.zeros_like(hOld_forcing)\n",
    "\n",
    "g = 1 # gravitational acceleration constant\n",
    "H = 1 # height\n",
    "\n",
    "c = 0.1 # courant number root(g*H)(dt/dx)\n",
    "w = 8\n",
    "\n",
    "\n",
    "for it in range(int(nt/2)):   # because looking at t = 0.5\n",
    "    for y in range(1, nx-2):\n",
    "        u_forcing[y] = uOld_forcing[y] - (c/(2*H))*(hOld_forcing[y+1] - hOld_forcing[y-1]) # forward in time and centred in space\n",
    "        if y == midpoint:\n",
    "            h_forcing[y] = hOld_forcing[y] - (c/(2*g))*(u_forcing[y+1] - u_forcing[y-1]) + dt*math.sqrt(g*H)*math.sin(w*it/nt)# backward in time and centred in space\n",
    "        else:\n",
    "            h_forcing[y] = float(hOld_forcing[y] - (c/(2*g))*(u_forcing[y+1] - u_forcing[y-1]))\n",
    "\n",
    "    # assuming periodic boundary conditions can define u and h on the boundaries\n",
    "    u_forcing[0] = uOld_forcing[0] - (c/(2*H))*(hOld_forcing[1] - hOld_forcing[nx-2])\n",
    "    u_forcing[nx-1] = uOld_forcing[nx-1] - (c/(2*H))*(hOld_forcing[1] - hOld_forcing[nx - 2])\n",
    "    u_forcing[nx] = u_forcing[0].copy()\n",
    "    h_forcing[0] = hOld_forcing[0] - (c/(2*g))*(u_forcing[1] - u_forcing[nx- 2])\n",
    "    h_forcing[nx-1] = hOld_forcing[nx-1] - (c/(2*g))*(u_forcing[1] - u_forcing[nx- 2])\n",
    "    h_forcing[nx] = h_forcing[0].copy()\n",
    "    hOld_forcing = h_forcing.copy()\n",
    "    uOld_forcing = u_forcing.copy()\n",
    "\n",
    "u, h = A_grid(initialu, initialh, nx, nt, H = 1, g = 1, w = 8, Forcing = False)\n",
    "u_forcing, h_forcing = A_grid(initialu, initialh, nx, nt, H = 1, g = 1, w = 8, Forcing = True)\n",
    "\n",
    "plt.ion()\n",
    "#plt.plot(x, initialu, 'b--', label = 'Initial u conditions')\n",
    "#plt.plot(x, initialh, 'r--', label = 'Initial h conditions')\n",
    "plt.plot(x, u, label = 'u without forcing')\n",
    "plt.plot(x, u_forcing, label = 'u with forcing')\n",
    "plt.legend(loc = 'best')\n",
    "plt.show()\n",
    "\n",
    "#plt.plot(x, initialu, 'b--', label = 'Initial u conditions')\n",
    "#plt.plot(x, initialh, 'r--', label = 'Initial h conditions')\n",
    "plt.plot(x, h, label = 'h without forcing')\n",
    "plt.plot(x, h_forcing, label = 'h with forcing')\n",
    "plt.legend(loc = 'best')\n",
    "plt.show()\n",
    "\n"
   ]
  },
  {
   "cell_type": "markdown",
   "metadata": {
    "collapsed": true
   },
   "source": [
    "## C-grid"
   ]
  },
  {
   "cell_type": "markdown",
   "metadata": {},
   "source": [
    "### NEED TO DEFINE VARIABLES AT TOP OF ALL FUNCTIONS"
   ]
  },
  {
   "cell_type": "code",
   "execution_count": 29,
   "metadata": {},
   "outputs": [
    {
     "data": {
      "image/png": "[encoded data removed]",
      "text/plain": [
       "<matplotlib.figure.Figure at 0x10ab651d0>"
      ]
     },
     "metadata": {},
     "output_type": "display_data"
    },
    {
     "data": {
      "image/png": "[encoded data removed]",
      "text/plain": [
       "<matplotlib.figure.Figure at 0x10b170a20>"
      ]
     },
     "metadata": {},
     "output_type": "display_data"
    }
   ],
   "source": [
    "def C_grid(initialu, initialh, nx, nt, H = 1, g = 1, w = 8, c = 0.1, Forcing = False):\n",
    "    uhalf = np.zeros(len(initialu)-1)\n",
    "    \n",
    "    # for a c-grid the velocity u is stagerred in the x-direction by half\n",
    "    for i in range(0, len(initialu)-1):\n",
    "        uhalf[i] = (initialu[i] + initialu[i + 1])/2\n",
    "        \n",
    "        # note that uhalf[i] = u_{i + 1/2}\n",
    "        \n",
    "    ####### NEED TO CHANGE THIS TO BE GETTING IT DIRECTLY FROM ANALYTICAL SOLUTION ####\n",
    "    \n",
    "    u_cgrid = np.zeros_like(uhalf)\n",
    "    h_cgrid = np.zeros_like(initialh)\n",
    "    \n",
    "    uOld = uhalf.copy()\n",
    "    hOld = initialh.copy()\n",
    "\n",
    "    dx = 1/nx\n",
    "    \n",
    "    c = 0.1 # courant number root(g*H)(dt/dx)\n",
    "    \n",
    "    dt = (c*dx)/math.sqrt(g*H)\n",
    "    \n",
    "\n",
    "    for it in range(nt): \n",
    "        for y in range(1, nx-2):\n",
    "            uhalf[y] = uOld[y] - (c*math.sqrt(g/H))*(hOld[y + 1] - hOld[y]) # forward in time and centred in space\n",
    "            if Forcing == True:\n",
    "                if y == midpoint:\n",
    "                    h_cgrid[y] = hOld[y] - (c*math.sqrt(H/g))*(uhalf[y + 1] - uhalf[y-1]) + dt*math.sqrt(g*H)*math.sin(w*dt*it/2)# backward in time and centred in space\n",
    "                else:\n",
    "                    h_cgrid[y] = hOld[y] - (c*math.sqrt(g/H))*(uhalf[y] - uhalf[y-1])\n",
    "            elif Forcing == False:    \n",
    "                h_cgrid[y] = hOld[y] - (c*math.sqrt(g/H))*(uhalf[y] - uhalf[y-1]) \n",
    "            else:\n",
    "                print(\"Error: Forcing must be true or false\")\n",
    "        \n",
    "        uhalf[0] = uOld[0] - (c/(H))*(hOld[1] - hOld[0])\n",
    "        uhalf[nx-1] = uOld[nx-1] - (c/(H))*(hOld[0] - hOld[nx-1])\n",
    "        h_cgrid[0] = hOld[0] - (c/(g))*(uhalf[0] - uhalf[nx-2])\n",
    "        h_cgrid[nx] = h_cgrid[0].copy()\n",
    "        \n",
    "        hOld = h_cgrid.copy()\n",
    "        uOld = uhalf.copy()\n",
    "    return uhalf, h_cgrid\n",
    "\n",
    "\n",
    "uhalf, h_cgrid = C_grid(initialu, initialh, nx, nt, H = 1, g = 1, w = 8, Forcing = False)\n",
    "uhalf_forcing, h_cgrid_forcing = C_grid(initialu, initialh, nx, nt, H = 1, g = 1, w = 8, Forcing = True)\n",
    "\n",
    "plt.ion()\n",
    "#plt.plot(x, initialu, 'b--', label = 'Initial u conditions')\n",
    "#plt.plot(x, initialh, 'r--', label = 'Initial h conditions')\n",
    "plt.plot(x[0:(len(x) -1)], uhalf, label = 'u with C-grid and no forcing')\n",
    "plt.plot(x[0:(len(x) -1)], uhalf_forcing, label = 'u with C-grid and forcing')\n",
    "plt.legend(loc = 'best')\n",
    "plt.show()\n",
    "\n",
    "#plt.plot(x, initialu, 'b--', label = 'Initial u conditions')\n",
    "#plt.plot(x, initialh, 'r--', label = 'Initial h conditions')\n",
    "plt.plot(x, h_cgrid, label = 'h with C-grid and no forcing')\n",
    "plt.plot(x, h_cgrid_forcing, label = 'h with C-grid and forcing')\n",
    "plt.legend(loc = 'best')\n",
    "plt.show()"
   ]
  },
  {
   "cell_type": "code",
   "execution_count": null,
   "metadata": {
    "collapsed": true
   },
   "outputs": [],
   "source": []
  }
 ],
 "metadata": {
  "kernelspec": {
   "display_name": "Python 3",
   "language": "python",
   "name": "python3"
  },
  "language_info": {
   "codemirror_mode": {
    "name": "ipython",
    "version": 3
   },
   "file_extension": ".py",
   "mimetype": "text/x-python",
   "name": "python",
   "nbconvert_exporter": "python",
   "pygments_lexer": "ipython3",
   "version": "3.6.2"
  }
 },
 "nbformat": 4,
 "nbformat_minor": 2
}
